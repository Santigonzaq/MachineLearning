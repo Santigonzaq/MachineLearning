{
 "cells": [
  {
   "cell_type": "markdown",
   "metadata": {},
   "source": [
    "<h2 style=\"color:blue\"> PRUEBA TÉCNICA PARA TIGO. </h2>\n",
    "<h3> Santiago Gonzalez Quiroz. sangonzalezqui@unal.edu.co. 301 202 98 52 </h3>\n",
    "<br> <br>\n",
    "<p> Dada la información que se tiene en la base de datos y pensando en machine learning, parece que para una compañia que preste este tipo de servicios, lo que le sería más util, es poder predecir si un cliente con determinadas carateristicas cancelará o no los servicios que tiene contratados con la empresa. En palabras más directas, lo que se piensa hacer es por medio de un algoritmo de clasificación como <strong> Los K vecinos más cercanos </strong>, poder clasificar a un cliente como posible cancelador de servicios o no. La variable a predecir es entonces: Churn. </p>"
   ]
  },
  {
   "cell_type": "code",
   "execution_count": 402,
   "metadata": {},
   "outputs": [
    {
     "name": "stdout",
     "output_type": "stream",
     "text": [
      "<class 'pandas.core.frame.DataFrame'>\n",
      "RangeIndex: 7043 entries, 0 to 7042\n",
      "Data columns (total 21 columns):\n",
      "customerID          7043 non-null object\n",
      "gender              7043 non-null object\n",
      "SeniorCitizen       7043 non-null int64\n",
      "Partner             7043 non-null object\n",
      "Dependents          7043 non-null object\n",
      "tenure              7043 non-null int64\n",
      "PhoneService        7043 non-null object\n",
      "MultipleLines       7043 non-null object\n",
      "InternetService     7043 non-null object\n",
      "OnlineSecurity      7043 non-null object\n",
      "OnlineBackup        7043 non-null object\n",
      "DeviceProtection    7043 non-null object\n",
      "TechSupport         7043 non-null object\n",
      "StreamingTV         7043 non-null object\n",
      "StreamingMovies     7043 non-null object\n",
      "Contract            7043 non-null object\n",
      "PaperlessBilling    7043 non-null object\n",
      "PaymentMethod       7043 non-null object\n",
      "MonthlyCharges      7043 non-null float64\n",
      "TotalCharges        7043 non-null object\n",
      "Churn               7043 non-null object\n",
      "dtypes: float64(1), int64(2), object(18)\n",
      "memory usage: 1.1+ MB\n"
     ]
    },
    {
     "data": {
      "text/html": [
       "<div>\n",
       "<style scoped>\n",
       "    .dataframe tbody tr th:only-of-type {\n",
       "        vertical-align: middle;\n",
       "    }\n",
       "\n",
       "    .dataframe tbody tr th {\n",
       "        vertical-align: top;\n",
       "    }\n",
       "\n",
       "    .dataframe thead th {\n",
       "        text-align: right;\n",
       "    }\n",
       "</style>\n",
       "<table border=\"1\" class=\"dataframe\">\n",
       "  <thead>\n",
       "    <tr style=\"text-align: right;\">\n",
       "      <th></th>\n",
       "      <th>customerID</th>\n",
       "      <th>gender</th>\n",
       "      <th>SeniorCitizen</th>\n",
       "      <th>Partner</th>\n",
       "      <th>Dependents</th>\n",
       "      <th>tenure</th>\n",
       "      <th>PhoneService</th>\n",
       "      <th>MultipleLines</th>\n",
       "      <th>InternetService</th>\n",
       "      <th>OnlineSecurity</th>\n",
       "      <th>...</th>\n",
       "      <th>DeviceProtection</th>\n",
       "      <th>TechSupport</th>\n",
       "      <th>StreamingTV</th>\n",
       "      <th>StreamingMovies</th>\n",
       "      <th>Contract</th>\n",
       "      <th>PaperlessBilling</th>\n",
       "      <th>PaymentMethod</th>\n",
       "      <th>MonthlyCharges</th>\n",
       "      <th>TotalCharges</th>\n",
       "      <th>Churn</th>\n",
       "    </tr>\n",
       "  </thead>\n",
       "  <tbody>\n",
       "    <tr>\n",
       "      <td>0</td>\n",
       "      <td>7590-VHVEG</td>\n",
       "      <td>Female</td>\n",
       "      <td>0</td>\n",
       "      <td>Yes</td>\n",
       "      <td>No</td>\n",
       "      <td>1</td>\n",
       "      <td>No</td>\n",
       "      <td>No phone service</td>\n",
       "      <td>DSL</td>\n",
       "      <td>No</td>\n",
       "      <td>...</td>\n",
       "      <td>No</td>\n",
       "      <td>No</td>\n",
       "      <td>No</td>\n",
       "      <td>No</td>\n",
       "      <td>Month-to-month</td>\n",
       "      <td>Yes</td>\n",
       "      <td>Electronic check</td>\n",
       "      <td>29.85</td>\n",
       "      <td>29.85</td>\n",
       "      <td>No</td>\n",
       "    </tr>\n",
       "    <tr>\n",
       "      <td>1</td>\n",
       "      <td>5575-GNVDE</td>\n",
       "      <td>Male</td>\n",
       "      <td>0</td>\n",
       "      <td>No</td>\n",
       "      <td>No</td>\n",
       "      <td>34</td>\n",
       "      <td>Yes</td>\n",
       "      <td>No</td>\n",
       "      <td>DSL</td>\n",
       "      <td>Yes</td>\n",
       "      <td>...</td>\n",
       "      <td>Yes</td>\n",
       "      <td>No</td>\n",
       "      <td>No</td>\n",
       "      <td>No</td>\n",
       "      <td>One year</td>\n",
       "      <td>No</td>\n",
       "      <td>Mailed check</td>\n",
       "      <td>56.95</td>\n",
       "      <td>1889.5</td>\n",
       "      <td>No</td>\n",
       "    </tr>\n",
       "    <tr>\n",
       "      <td>2</td>\n",
       "      <td>3668-QPYBK</td>\n",
       "      <td>Male</td>\n",
       "      <td>0</td>\n",
       "      <td>No</td>\n",
       "      <td>No</td>\n",
       "      <td>2</td>\n",
       "      <td>Yes</td>\n",
       "      <td>No</td>\n",
       "      <td>DSL</td>\n",
       "      <td>Yes</td>\n",
       "      <td>...</td>\n",
       "      <td>No</td>\n",
       "      <td>No</td>\n",
       "      <td>No</td>\n",
       "      <td>No</td>\n",
       "      <td>Month-to-month</td>\n",
       "      <td>Yes</td>\n",
       "      <td>Mailed check</td>\n",
       "      <td>53.85</td>\n",
       "      <td>108.15</td>\n",
       "      <td>Yes</td>\n",
       "    </tr>\n",
       "    <tr>\n",
       "      <td>3</td>\n",
       "      <td>7795-CFOCW</td>\n",
       "      <td>Male</td>\n",
       "      <td>0</td>\n",
       "      <td>No</td>\n",
       "      <td>No</td>\n",
       "      <td>45</td>\n",
       "      <td>No</td>\n",
       "      <td>No phone service</td>\n",
       "      <td>DSL</td>\n",
       "      <td>Yes</td>\n",
       "      <td>...</td>\n",
       "      <td>Yes</td>\n",
       "      <td>Yes</td>\n",
       "      <td>No</td>\n",
       "      <td>No</td>\n",
       "      <td>One year</td>\n",
       "      <td>No</td>\n",
       "      <td>Bank transfer (automatic)</td>\n",
       "      <td>42.30</td>\n",
       "      <td>1840.75</td>\n",
       "      <td>No</td>\n",
       "    </tr>\n",
       "    <tr>\n",
       "      <td>4</td>\n",
       "      <td>9237-HQITU</td>\n",
       "      <td>Female</td>\n",
       "      <td>0</td>\n",
       "      <td>No</td>\n",
       "      <td>No</td>\n",
       "      <td>2</td>\n",
       "      <td>Yes</td>\n",
       "      <td>No</td>\n",
       "      <td>Fiber optic</td>\n",
       "      <td>No</td>\n",
       "      <td>...</td>\n",
       "      <td>No</td>\n",
       "      <td>No</td>\n",
       "      <td>No</td>\n",
       "      <td>No</td>\n",
       "      <td>Month-to-month</td>\n",
       "      <td>Yes</td>\n",
       "      <td>Electronic check</td>\n",
       "      <td>70.70</td>\n",
       "      <td>151.65</td>\n",
       "      <td>Yes</td>\n",
       "    </tr>\n",
       "    <tr>\n",
       "      <td>5</td>\n",
       "      <td>9305-CDSKC</td>\n",
       "      <td>Female</td>\n",
       "      <td>0</td>\n",
       "      <td>No</td>\n",
       "      <td>No</td>\n",
       "      <td>8</td>\n",
       "      <td>Yes</td>\n",
       "      <td>Yes</td>\n",
       "      <td>Fiber optic</td>\n",
       "      <td>No</td>\n",
       "      <td>...</td>\n",
       "      <td>Yes</td>\n",
       "      <td>No</td>\n",
       "      <td>Yes</td>\n",
       "      <td>Yes</td>\n",
       "      <td>Month-to-month</td>\n",
       "      <td>Yes</td>\n",
       "      <td>Electronic check</td>\n",
       "      <td>99.65</td>\n",
       "      <td>820.5</td>\n",
       "      <td>Yes</td>\n",
       "    </tr>\n",
       "    <tr>\n",
       "      <td>6</td>\n",
       "      <td>1452-KIOVK</td>\n",
       "      <td>Male</td>\n",
       "      <td>0</td>\n",
       "      <td>No</td>\n",
       "      <td>Yes</td>\n",
       "      <td>22</td>\n",
       "      <td>Yes</td>\n",
       "      <td>Yes</td>\n",
       "      <td>Fiber optic</td>\n",
       "      <td>No</td>\n",
       "      <td>...</td>\n",
       "      <td>No</td>\n",
       "      <td>No</td>\n",
       "      <td>Yes</td>\n",
       "      <td>No</td>\n",
       "      <td>Month-to-month</td>\n",
       "      <td>Yes</td>\n",
       "      <td>Credit card (automatic)</td>\n",
       "      <td>89.10</td>\n",
       "      <td>1949.4</td>\n",
       "      <td>No</td>\n",
       "    </tr>\n",
       "    <tr>\n",
       "      <td>7</td>\n",
       "      <td>6713-OKOMC</td>\n",
       "      <td>Female</td>\n",
       "      <td>0</td>\n",
       "      <td>No</td>\n",
       "      <td>No</td>\n",
       "      <td>10</td>\n",
       "      <td>No</td>\n",
       "      <td>No phone service</td>\n",
       "      <td>DSL</td>\n",
       "      <td>Yes</td>\n",
       "      <td>...</td>\n",
       "      <td>No</td>\n",
       "      <td>No</td>\n",
       "      <td>No</td>\n",
       "      <td>No</td>\n",
       "      <td>Month-to-month</td>\n",
       "      <td>No</td>\n",
       "      <td>Mailed check</td>\n",
       "      <td>29.75</td>\n",
       "      <td>301.9</td>\n",
       "      <td>No</td>\n",
       "    </tr>\n",
       "    <tr>\n",
       "      <td>8</td>\n",
       "      <td>7892-POOKP</td>\n",
       "      <td>Female</td>\n",
       "      <td>0</td>\n",
       "      <td>Yes</td>\n",
       "      <td>No</td>\n",
       "      <td>28</td>\n",
       "      <td>Yes</td>\n",
       "      <td>Yes</td>\n",
       "      <td>Fiber optic</td>\n",
       "      <td>No</td>\n",
       "      <td>...</td>\n",
       "      <td>Yes</td>\n",
       "      <td>Yes</td>\n",
       "      <td>Yes</td>\n",
       "      <td>Yes</td>\n",
       "      <td>Month-to-month</td>\n",
       "      <td>Yes</td>\n",
       "      <td>Electronic check</td>\n",
       "      <td>104.80</td>\n",
       "      <td>3046.05</td>\n",
       "      <td>Yes</td>\n",
       "    </tr>\n",
       "    <tr>\n",
       "      <td>9</td>\n",
       "      <td>6388-TABGU</td>\n",
       "      <td>Male</td>\n",
       "      <td>0</td>\n",
       "      <td>No</td>\n",
       "      <td>Yes</td>\n",
       "      <td>62</td>\n",
       "      <td>Yes</td>\n",
       "      <td>No</td>\n",
       "      <td>DSL</td>\n",
       "      <td>Yes</td>\n",
       "      <td>...</td>\n",
       "      <td>No</td>\n",
       "      <td>No</td>\n",
       "      <td>No</td>\n",
       "      <td>No</td>\n",
       "      <td>One year</td>\n",
       "      <td>No</td>\n",
       "      <td>Bank transfer (automatic)</td>\n",
       "      <td>56.15</td>\n",
       "      <td>3487.95</td>\n",
       "      <td>No</td>\n",
       "    </tr>\n",
       "  </tbody>\n",
       "</table>\n",
       "<p>10 rows × 21 columns</p>\n",
       "</div>"
      ],
      "text/plain": [
       "   customerID  gender  SeniorCitizen Partner Dependents  tenure PhoneService  \\\n",
       "0  7590-VHVEG  Female              0     Yes         No       1           No   \n",
       "1  5575-GNVDE    Male              0      No         No      34          Yes   \n",
       "2  3668-QPYBK    Male              0      No         No       2          Yes   \n",
       "3  7795-CFOCW    Male              0      No         No      45           No   \n",
       "4  9237-HQITU  Female              0      No         No       2          Yes   \n",
       "5  9305-CDSKC  Female              0      No         No       8          Yes   \n",
       "6  1452-KIOVK    Male              0      No        Yes      22          Yes   \n",
       "7  6713-OKOMC  Female              0      No         No      10           No   \n",
       "8  7892-POOKP  Female              0     Yes         No      28          Yes   \n",
       "9  6388-TABGU    Male              0      No        Yes      62          Yes   \n",
       "\n",
       "      MultipleLines InternetService OnlineSecurity  ... DeviceProtection  \\\n",
       "0  No phone service             DSL             No  ...               No   \n",
       "1                No             DSL            Yes  ...              Yes   \n",
       "2                No             DSL            Yes  ...               No   \n",
       "3  No phone service             DSL            Yes  ...              Yes   \n",
       "4                No     Fiber optic             No  ...               No   \n",
       "5               Yes     Fiber optic             No  ...              Yes   \n",
       "6               Yes     Fiber optic             No  ...               No   \n",
       "7  No phone service             DSL            Yes  ...               No   \n",
       "8               Yes     Fiber optic             No  ...              Yes   \n",
       "9                No             DSL            Yes  ...               No   \n",
       "\n",
       "  TechSupport StreamingTV StreamingMovies        Contract PaperlessBilling  \\\n",
       "0          No          No              No  Month-to-month              Yes   \n",
       "1          No          No              No        One year               No   \n",
       "2          No          No              No  Month-to-month              Yes   \n",
       "3         Yes          No              No        One year               No   \n",
       "4          No          No              No  Month-to-month              Yes   \n",
       "5          No         Yes             Yes  Month-to-month              Yes   \n",
       "6          No         Yes              No  Month-to-month              Yes   \n",
       "7          No          No              No  Month-to-month               No   \n",
       "8         Yes         Yes             Yes  Month-to-month              Yes   \n",
       "9          No          No              No        One year               No   \n",
       "\n",
       "               PaymentMethod MonthlyCharges  TotalCharges Churn  \n",
       "0           Electronic check          29.85         29.85    No  \n",
       "1               Mailed check          56.95        1889.5    No  \n",
       "2               Mailed check          53.85        108.15   Yes  \n",
       "3  Bank transfer (automatic)          42.30       1840.75    No  \n",
       "4           Electronic check          70.70        151.65   Yes  \n",
       "5           Electronic check          99.65         820.5   Yes  \n",
       "6    Credit card (automatic)          89.10        1949.4    No  \n",
       "7               Mailed check          29.75         301.9    No  \n",
       "8           Electronic check         104.80       3046.05   Yes  \n",
       "9  Bank transfer (automatic)          56.15       3487.95    No  \n",
       "\n",
       "[10 rows x 21 columns]"
      ]
     },
     "execution_count": 402,
     "metadata": {},
     "output_type": "execute_result"
    }
   ],
   "source": [
    "import itertools\n",
    "import numpy as np\n",
    "import matplotlib.pyplot as plt\n",
    "from matplotlib.ticker import NullFormatter\n",
    "import pandas as pd\n",
    "import numpy as np\n",
    "import matplotlib.ticker as ticker\n",
    "import sklearn \n",
    "import matplotlib.pyplot as plt\n",
    "%matplotlib inline\n",
    "\n",
    "\n",
    "df=pd.read_csv(\"Prueba_Tecnica_Tigo.csv\") ##Leer la BD.\n",
    "auxiliar=df.copy()\n",
    "df[\"gender\"]\n",
    "df.info() ##Conocer un poco de la estructura de las columnas, así como los tipos de valores que contien\n",
    "df.head(10)"
   ]
  },
  {
   "cell_type": "markdown",
   "metadata": {},
   "source": [
    "<h3 style=\"color:blue\">Conociendo la estructura de la base de datos: </h3>\n",
    "<ul>\n",
    "<li>Parece ser que en ninguna columna hay valores faltantes, por lo que podría no ser necesario aplicar el manejo de inexistentes. Todas las columnas tienen 7043 entradas no nulas.\n",
    "</li>\n",
    "<li>Se puede evidenciar que muchas de las columnas no son numericas, por lo que hay ocuparse de ello. Dichas columnas son\n",
    "Las que aparecen con el tipo object. Son variables categoricas, las cuales toca representar numericamente sus posibles valores.\n",
    "</li>\n",
    "    <li>De entrada se sabe que la columna customer ID se puede despreciar, pues no es relavante en el modelo.\n",
    "</li>\n",
    "    <li>La columna TotalCharges en realidad representa valores númericos, es necesario corregir ese tipo object que muestra la información.\n",
    "</li>\n",
    "    \n",
    "</ul>\n",
    "\n",
    "<h3>En el proximo bloque de código se tratará de encontrar por qué la variable TotalCharges se está expresando como object.</h3>"
   ]
  },
  {
   "cell_type": "code",
   "execution_count": 403,
   "metadata": {},
   "outputs": [
    {
     "name": "stdout",
     "output_type": "stream",
     "text": [
      "20.2       11\n",
      "           11\n",
      "19.75       9\n",
      "20.05       8\n",
      "19.65       8\n",
      "           ..\n",
      "1636.95     1\n",
      "6300.85     1\n",
      "2538.05     1\n",
      "263.05      1\n",
      "294.5       1\n",
      "Name: TotalCharges, Length: 6531, dtype: int64\n",
      "---------------------------------------------------------------------------------\n",
      "En una de las posiciones vacias, ya está un nan:  nan\n",
      "Efectivamente donde habia un nan, ahora está la mediana: 1397.475\n",
      "------------------------------------------------------------------------------------------------\n",
      "<class 'pandas.core.frame.DataFrame'>\n",
      "RangeIndex: 7043 entries, 0 to 7042\n",
      "Data columns (total 20 columns):\n",
      "gender              7043 non-null object\n",
      "SeniorCitizen       7043 non-null int64\n",
      "Partner             7043 non-null object\n",
      "Dependents          7043 non-null object\n",
      "tenure              7043 non-null int64\n",
      "PhoneService        7043 non-null object\n",
      "MultipleLines       7043 non-null object\n",
      "InternetService     7043 non-null object\n",
      "OnlineSecurity      7043 non-null object\n",
      "OnlineBackup        7043 non-null object\n",
      "DeviceProtection    7043 non-null object\n",
      "TechSupport         7043 non-null object\n",
      "StreamingTV         7043 non-null object\n",
      "StreamingMovies     7043 non-null object\n",
      "Contract            7043 non-null object\n",
      "PaperlessBilling    7043 non-null object\n",
      "PaymentMethod       7043 non-null object\n",
      "MonthlyCharges      7043 non-null float64\n",
      "TotalCharges        7043 non-null float64\n",
      "Churn               7043 non-null object\n",
      "dtypes: float64(2), int64(2), object(16)\n",
      "memory usage: 1.1+ MB\n"
     ]
    }
   ],
   "source": [
    "#pd.to_numeric(df['TotalCharges']) --> Esta linea nos indica que hay valores vacios \"\", uno de ellos en la pos 488.\n",
    "df=df.drop(\"customerID\", axis=1)\n",
    "print(df[\"TotalCharges\"].value_counts()) #Efectivamente hay 11 valores vacios.\n",
    "\n",
    "df[\"TotalCharges\"]=pd.to_numeric(df['TotalCharges'],errors=\"coerce\") #Transforma valores vacios en nan.\n",
    "print(\"---------------------------------------------------------------------------------\")\n",
    "print(\"En una de las posiciones vacias, ya está un nan: \",df[\"TotalCharges\"][488]) #Se puede ver que ya se visualiza el nan\n",
    "\n",
    "df[\"TotalCharges\"] = df[\"TotalCharges\"].fillna(df[\"TotalCharges\"].median()) ##Llenar los valores nan con la mediana\n",
    "print(\"Efectivamente donde habia un nan, ahora está la mediana:\",df[\"TotalCharges\"][488])\n",
    "print(\"------------------------------------------------------------------------------------------------\")\n",
    "df.info() #Ahora se ve que totalcharges si es variable númerica.\n",
    "\n",
    "\n",
    "\n",
    "\n",
    "\n",
    "\n"
   ]
  },
  {
   "cell_type": "markdown",
   "metadata": {},
   "source": [
    "<h4>En el bloque anterior, se indagó sobre el motivo por el cual la variable totalcharges se estaba expresando como un object. Finalmente se encontró que era debido a que tenia elementos vacios, expresados como el string \"\", por esto, se asumía que toda la columna era de string. Se corrigió el problema haciendo una asignación de nan a los valores vacios, para posteriormente ser reemplazados con la media de los datos de dicha columna.\n",
    "Adicionalmente se borró la variable customerID que era innecesaria</h4>\n",
    "\n",
    "<h3> En el proximo bloque de código, las variables categoricas se van a numerizar para poder trabajar con el modelo de machine learning que se tiene en mente </h3>"
   ]
  },
  {
   "cell_type": "code",
   "execution_count": 404,
   "metadata": {},
   "outputs": [
    {
     "name": "stdout",
     "output_type": "stream",
     "text": [
      "<class 'pandas.core.frame.DataFrame'>\n",
      "RangeIndex: 7043 entries, 0 to 7042\n",
      "Data columns (total 20 columns):\n",
      "gender              7043 non-null float64\n",
      "SeniorCitizen       7043 non-null int64\n",
      "Partner             7043 non-null float64\n",
      "Dependents          7043 non-null float64\n",
      "tenure              7043 non-null int64\n",
      "PhoneService        7043 non-null float64\n",
      "MultipleLines       7043 non-null float64\n",
      "InternetService     7043 non-null float64\n",
      "OnlineSecurity      7043 non-null float64\n",
      "OnlineBackup        7043 non-null float64\n",
      "DeviceProtection    7043 non-null float64\n",
      "TechSupport         7043 non-null float64\n",
      "StreamingTV         7043 non-null float64\n",
      "StreamingMovies     7043 non-null float64\n",
      "Contract            7043 non-null float64\n",
      "PaperlessBilling    7043 non-null float64\n",
      "PaymentMethod       7043 non-null float64\n",
      "MonthlyCharges      7043 non-null float64\n",
      "TotalCharges        7043 non-null float64\n",
      "Churn               7043 non-null float64\n",
      "dtypes: float64(18), int64(2)\n",
      "memory usage: 1.1 MB\n"
     ]
    }
   ],
   "source": [
    "organizador_variables=sklearn.preprocessing.OrdinalEncoder() #Variable modificadora del kit sklearn, enumera las variables\n",
    "#categoricas\n",
    "\n",
    "##Enumero cada una de las variables tipo object\n",
    "df[[\"gender\"]]=organizador_variables.fit_transform(df[[\"gender\"]])\n",
    "df[[\"Partner\"]]=organizador_variables.fit_transform(df[[\"Partner\"]])\n",
    "df[[\"Dependents\"]]=organizador_variables.fit_transform(df[[\"Dependents\"]])\n",
    "df[[\"PhoneService\"]]=organizador_variables.fit_transform(df[[\"PhoneService\"]])\n",
    "df[[\"MultipleLines\"]]=organizador_variables.fit_transform(df[[\"MultipleLines\"]])\n",
    "df[[\"InternetService\"]]=organizador_variables.fit_transform(df[[\"InternetService\"]])\n",
    "df[[\"OnlineSecurity\"]]=organizador_variables.fit_transform(df[[\"OnlineSecurity\"]])\n",
    "df[[\"OnlineBackup\"]]=organizador_variables.fit_transform(df[[\"OnlineBackup\"]])\n",
    "df[[\"DeviceProtection\"]]=organizador_variables.fit_transform(df[[\"DeviceProtection\"]])\n",
    "df[[\"TechSupport\"]]=organizador_variables.fit_transform(df[[\"TechSupport\"]])\n",
    "df[[\"StreamingTV\"]]=organizador_variables.fit_transform(df[[\"StreamingTV\"]])\n",
    "df[[\"StreamingMovies\"]]=organizador_variables.fit_transform(df[[\"StreamingMovies\"]])\n",
    "df[[\"Contract\"]]=organizador_variables.fit_transform(df[[\"Contract\"]])\n",
    "df[[\"PaperlessBilling\"]]=organizador_variables.fit_transform(df[[\"PaperlessBilling\"]])\n",
    "df[[\"PaymentMethod\"]]=organizador_variables.fit_transform(df[[\"PaymentMethod\"]])\n",
    "df[[\"Churn\"]]=organizador_variables.fit_transform(df[[\"Churn\"]])\n",
    "\n",
    "df.info() ##Muestro info para verificar que ahora todas las variables son numéricas\n",
    "\n",
    "\n"
   ]
  },
  {
   "cell_type": "markdown",
   "metadata": {},
   "source": [
    "<h3> Ya con todos los datos puestos de forma numerica, y corregidos los valores faltantes, se culmina el proceso de limpiar los datos. Se puede observar como el ultimo pd.info() mostró que todas las variables son numericas. </h3>\n",
    "<h3> Posteriormente, en los siguientes bloques de código, se van a observar graficamente los datos y buscar algún tipo de relaciones entre ellos, para tratar de seleccionar las variables que se usarán en el modelo\". </h3>"
   ]
  },
  {
   "cell_type": "code",
   "execution_count": 405,
   "metadata": {},
   "outputs": [
    {
     "data": {
      "text/plain": [
       "<matplotlib.axes._subplots.AxesSubplot at 0x1d2da058ec8>"
      ]
     },
     "execution_count": 405,
     "metadata": {},
     "output_type": "execute_result"
    },
    {
     "data": {
      "image/png": "[encoded data removed]",
      "text/plain": [
       "<Figure size 432x288 with 1 Axes>"
      ]
     },
     "metadata": {
      "needs_background": "light"
     },
     "output_type": "display_data"
    },
    {
     "data": {
      "image/png": "[encoded data removed]",
      "text/plain": [
       "<Figure size 432x288 with 1 Axes>"
      ]
     },
     "metadata": {
      "needs_background": "light"
     },
     "output_type": "display_data"
    }
   ],
   "source": [
    "#Analizando algunas variables de interes.\n",
    "df[\"gender\"].hist() #No hay mucha diferencia en la compañia entre los clientes hombre y mujer. \n",
    "#Parece no ser una variable importante dentro del modelo, puesto que es el mismo número.\n",
    "\n",
    "#Miremos el gráfico de dispersión entre gender y totalcharges\n",
    "df.plot(kind=\"scatter\", x=\"gender\", y=\"TotalCharges\",alpha=0.08) \n",
    "#Efectivamente no hay diferencia significativa entre el sexo del cliente y la cantidad que paga, pues el grafico claramente\n",
    "#muestra que ambos sexos se distribuyen entre todos los rangos de precios a pagar. Se decide entonces no tener en cuenta la variable\n",
    "#sexo.\n"
   ]
  },
  {
   "cell_type": "code",
   "execution_count": 406,
   "metadata": {},
   "outputs": [
    {
     "data": {
      "text/plain": [
       "<matplotlib.axes._subplots.AxesSubplot at 0x1d2db108e08>"
      ]
     },
     "execution_count": 406,
     "metadata": {},
     "output_type": "execute_result"
    },
    {
     "data": {
      "image/png": "[encoded data removed]",
      "text/plain": [
       "<Figure size 432x288 with 1 Axes>"
      ]
     },
     "metadata": {
      "needs_background": "light"
     },
     "output_type": "display_data"
    },
    {
     "data": {
      "image/png": "[encoded data removed]",
      "text/plain": [
       "<Figure size 432x288 with 1 Axes>"
      ]
     },
     "metadata": {
      "needs_background": "light"
     },
     "output_type": "display_data"
    }
   ],
   "source": [
    "df[\"SeniorCitizen\"].hist() #La cantidad de clientes de la tercera edad, es baja. Podría haber una relación entre la cantidad de\n",
    "#Clientes que cancelan los servicios y si son ancianos o no. Pues tecnicamente es más fácil que un joven cambie a otra compañia.\n",
    "\n",
    "#Observemos la relación entre ancianos y el total que pagan.\n",
    "df.plot(kind=\"scatter\", x=\"SeniorCitizen\", y=\"TotalCharges\",alpha=0.02)\n",
    "#Como era de esperarse, los ancianos por lo general pagan menos, ya que seguramente tienen menos servicios contratados,\n",
    "#a diferencia de los jovenes. Se decide tomar en cuenta la variable SeniorCitizen."
   ]
  },
  {
   "cell_type": "code",
   "execution_count": 317,
   "metadata": {},
   "outputs": [
    {
     "data": {
      "text/plain": [
       "<matplotlib.axes._subplots.AxesSubplot at 0x1d2d2932f88>"
      ]
     },
     "execution_count": 317,
     "metadata": {},
     "output_type": "execute_result"
    },
    {
     "data": {
      "image/png": "[encoded data removed]",
      "text/plain": [
       "<Figure size 432x288 with 1 Axes>"
      ]
     },
     "metadata": {
      "needs_background": "light"
     },
     "output_type": "display_data"
    },
    {
     "data": {
      "image/png": "[encoded data removed]",
      "text/plain": [
       "<Figure size 432x288 with 1 Axes>"
      ]
     },
     "metadata": {
      "needs_background": "light"
     },
     "output_type": "display_data"
    },
    {
     "data": {
      "image/png": "[encoded data removed]",
      "text/plain": [
       "<Figure size 432x288 with 1 Axes>"
      ]
     },
     "metadata": {
      "needs_background": "light"
     },
     "output_type": "display_data"
    }
   ],
   "source": [
    "df[\"Churn\"].hist() #Se puede observar como casi cerca de 2000 clientes han cancelado sus servicios. Busquemos una variable que\n",
    "#este relacionada con esto. Se va a mirar el pago mensual y el número de meses en la compañia.\n",
    "\n",
    "df.plot(kind=\"scatter\", x=\"Churn\", y=\"MonthlyCharges\",alpha=0.06) #Se puede observar que del total de gente que cancela el\n",
    "#servicio, la mayoría está ubicado en los pagos mensuales más altos. Se decide entonces tomar en cuenta la variable MonthlyCharges.\n",
    "\n",
    "df.plot(kind=\"scatter\", x=\"Churn\", y=\"tenure\",alpha=0.02) #Se puede observar como al parecer hay relación entre la gente que cance-\n",
    "#la los servicios y el tiempo que llevan en la compañia. Cancelan más las personas que llevan menos tiempo en la compañia.\n",
    "#Se decide tomar en cuenta la variable tenure.\n"
   ]
  },
  {
   "cell_type": "code",
   "execution_count": 407,
   "metadata": {},
   "outputs": [
    {
     "data": {
      "text/plain": [
       "calculo             1.000000\n",
       "TotalCharges        0.999263\n",
       "tenure              0.826568\n",
       "MonthlyCharges      0.651566\n",
       "MultipleLines       0.452793\n",
       "Contract            0.446964\n",
       "StreamingMovies     0.397723\n",
       "StreamingTV         0.391578\n",
       "DeviceProtection    0.387428\n",
       "OnlineBackup        0.374764\n",
       "Partner             0.317462\n",
       "TechSupport         0.275336\n",
       "OnlineSecurity      0.253178\n",
       "PaperlessBilling    0.158843\n",
       "PhoneService        0.113336\n",
       "SeniorCitizen       0.103261\n",
       "Dependents          0.062290\n",
       "gender             -0.000029\n",
       "InternetService    -0.176053\n",
       "Churn              -0.198514\n",
       "PaymentMethod      -0.331440\n",
       "Name: calculo, dtype: float64"
      ]
     },
     "execution_count": 407,
     "metadata": {},
     "output_type": "execute_result"
    },
    {
     "data": {
      "image/png": "[encoded data removed]",
      "text/plain": [
       "<Figure size 432x288 with 1 Axes>"
      ]
     },
     "metadata": {
      "needs_background": "light"
     },
     "output_type": "display_data"
    }
   ],
   "source": [
    "df[\"calculo\"]=df[\"tenure\"]*df[\"MonthlyCharges\"] #Saquemos una nueva variable a partir 2 conocidas.\n",
    "df.plot(kind=\"scatter\", x=\"calculo\", y=\"TotalCharges\",alpha=0.08) ##Como era de esperarse, la variable TotalCharges, sale\n",
    "#de calcular el costo mensual de un cliente por el tiempo que lleva en la compañia. Se puede ver en la grafica que la correlación\n",
    "#Es casi que de 1, por lo que la variable TotalCharges, no se va a tomar en cuenta para el modelo.\n",
    "corr_matrix = df.corr() \n",
    "corr_matrix[\"calculo\"].sort_values(ascending=False) "
   ]
  },
  {
   "cell_type": "code",
   "execution_count": 408,
   "metadata": {},
   "outputs": [
    {
     "data": {
      "text/plain": [
       "<matplotlib.axes._subplots.AxesSubplot at 0x1d2db16ab88>"
      ]
     },
     "execution_count": 408,
     "metadata": {},
     "output_type": "execute_result"
    },
    {
     "data": {
      "image/png": "[encoded data removed]",
      "text/plain": [
       "<Figure size 432x288 with 1 Axes>"
      ]
     },
     "metadata": {
      "needs_background": "light"
     },
     "output_type": "display_data"
    }
   ],
   "source": [
    "df[\"Partner\"].hist() #La variable partner se decide no tenerla en cuenta, pues la diferencia entre si o no, es muy poca.\n",
    "\n"
   ]
  },
  {
   "cell_type": "code",
   "execution_count": 409,
   "metadata": {},
   "outputs": [
    {
     "name": "stdout",
     "output_type": "stream",
     "text": [
      "clientes sin servicio telefonico:  (682, 21)\n",
      "Clientes con servicio telefonico:  (6361, 21)\n",
      "Clientes que no tienen multiples lineas:  (3390, 21)\n",
      "Clientes con multiples lineas:  (2971, 21)\n"
     ]
    },
    {
     "data": {
      "image/png": "[encoded data removed]",
      "text/plain": [
       "<Figure size 432x288 with 1 Axes>"
      ]
     },
     "metadata": {
      "needs_background": "light"
     },
     "output_type": "display_data"
    }
   ],
   "source": [
    "#df[\"PhoneService\"].hist() ##Se puede observar que la cantidad de usuarios que no tienen servicios telefonicos es poca, solo 682.\n",
    "is_phone = auxiliar['PhoneService']==\"No\"\n",
    "is_phone = auxiliar[is_phone]\n",
    "print(\"clientes sin servicio telefonico: \",is_phone.shape)\n",
    "is_phone = auxiliar['PhoneService']==\"Yes\"\n",
    "is_phone = auxiliar[is_phone]\n",
    "print(\"Clientes con servicio telefonico: \",is_phone.shape)\n",
    "df[\"MultipleLines\"].hist()\n",
    "##Hagamos un analísis de MultipleLines.\n",
    "is_multiple = auxiliar['MultipleLines']==\"No\"\n",
    "is_multiple = auxiliar[is_multiple]\n",
    "print(\"Clientes que no tienen multiples lineas: \",is_multiple.shape)\n",
    "is_multiple = auxiliar['MultipleLines']==\"Yes\"\n",
    "is_multiple = auxiliar[is_multiple]\n",
    "print(\"Clientes con multiples lineas: \", is_multiple.shape) ##3390+ 2971+682=7043->total de entradas, correcto.\n",
    "##Se decide no tener en cuenta la variable PhoneService, ya que podría estar dandome 2 veces información que ya me está dando\n",
    "##MultipleLines, entonces se va a tomar MultipleLines para el modelo."
   ]
  },
  {
   "cell_type": "code",
   "execution_count": 328,
   "metadata": {},
   "outputs": [
    {
     "name": "stdout",
     "output_type": "stream",
     "text": [
      "clientes sin servicio de internet:  (1526, 21)\n",
      "clientes con servicio DSL:  (2421, 21)\n",
      "clientes con servicio de fibra optica:  (3096, 21)\n"
     ]
    },
    {
     "data": {
      "image/png": "[encoded data removed]",
      "text/plain": [
       "<Figure size 432x288 with 1 Axes>"
      ]
     },
     "metadata": {
      "needs_background": "light"
     },
     "output_type": "display_data"
    }
   ],
   "source": [
    "##Analicemos internetService\n",
    "df[\"InternetService\"].hist() \n",
    "is_internet = auxiliar['InternetService']==\"No\"\n",
    "is_internet = auxiliar[is_internet]\n",
    "print(\"clientes sin servicio de internet: \",is_internet.shape)\n",
    "is_internet = auxiliar['InternetService']==\"DSL\"\n",
    "is_internet = auxiliar[is_internet]\n",
    "print(\"clientes con servicio DSL: \",is_internet.shape)\n",
    "is_internet = auxiliar['InternetService']==\"Fiber optic\"\n",
    "is_internet = auxiliar[is_internet]\n",
    "print(\"clientes con servicio de fibra optica: \",is_internet.shape)\n",
    "##Las cantidad de clientes entre las 3 opciones están muy repartidas, por lo que parece prudente tomar en cuenta la variable\n",
    "##InternetService en el modelo."
   ]
  },
  {
   "cell_type": "code",
   "execution_count": 410,
   "metadata": {},
   "outputs": [
    {
     "name": "stdout",
     "output_type": "stream",
     "text": [
      "clientes sin dependientes:  (4933, 21)\n"
     ]
    },
    {
     "data": {
      "text/plain": [
       "<matplotlib.axes._subplots.AxesSubplot at 0x1d2db3fb588>"
      ]
     },
     "execution_count": 410,
     "metadata": {},
     "output_type": "execute_result"
    },
    {
     "data": {
      "image/png": "[encoded data removed]",
      "text/plain": [
       "<Figure size 432x288 with 1 Axes>"
      ]
     },
     "metadata": {
      "needs_background": "light"
     },
     "output_type": "display_data"
    },
    {
     "data": {
      "image/png": "[encoded data removed]",
      "text/plain": [
       "<Figure size 432x288 with 1 Axes>"
      ]
     },
     "metadata": {
      "needs_background": "light"
     },
     "output_type": "display_data"
    }
   ],
   "source": [
    "##Entendinedo dependents como si el cliente tiene hijos que dependan de el o no, es buena idea mirar que pasa con esta\n",
    "##variables. Podría ser que si el cliente tiene hijos, tenga más servicios y por ende pague más mensualmente. Validemos esta \n",
    "#Suposición.\n",
    "df[\"Dependents\"].hist()\n",
    "is_dependent = auxiliar['Dependents']==\"No\"\n",
    "is_dependent = auxiliar[is_dependent]\n",
    "print(\"clientes sin dependientes: \",is_dependent.shape)\n",
    "##Mire la dispersión con respecto al pago mensual.\n",
    "df.plot(kind=\"scatter\", x=\"Dependents\", y=\"MonthlyCharges\",alpha=0.003)\n",
    "##El grafico muestra que contrario a lo que se suponía, los clientes con dependientes generalmente son los que menos pagan\n",
    "#Mensualmente. Se decide entonces tomar en cuenta la variable dependents"
   ]
  },
  {
   "cell_type": "code",
   "execution_count": null,
   "metadata": {},
   "outputs": [],
   "source": [
    "##Finalmente se quiere analizar la variable paymenth method, para mirar como se están distribuyendo los clientes entre los\n",
    "##diferentes metodos.\n",
    "df[\"PaymentMethod\"].hist()\n",
    "payment = auxiliar['PaymentMethod']==\"Credit card (automatic)\"\n",
    "payment = auxiliar[payment]\n",
    "print(\"clientes que pagan con tarjeta de credito: \",payment.shape)\n",
    "payment = auxiliar['PaymentMethod']==\"Bank transfer (automatic)\"\n",
    "payment = auxiliar[payment]\n",
    "print(\"clientes que pagan con transferencia: \",payment.shape)\n",
    "payment = auxiliar['PaymentMethod']==\"Mailed check\"\n",
    "payment = auxiliar[payment]\n",
    "print(\"clientes que pagan con mailed check: \",payment.shape)\n",
    "##Con las 3 primeras opciones de pago, los clientes se distribuyen casi igual. La mayor cantidad de cliente paga por medio de\n",
    "##ElectronicCheck. Se decide tomar en cuenta la variable PaymentMethod en el modelo.\n"
   ]
  },
  {
   "cell_type": "markdown",
   "metadata": {},
   "source": [
    "<h4> Después de haber analizado muchas de las variables del modelo (Las que no se analizaron, es porque no parecían relevantes), se decidio entonces tomar la menor cantidad posible de features, pues es bien sabido que los K vecinos trabaja mejor con baja dimensionalidad. Se pudo haber realizado también un analísis de principales componentes, por cuestiones de tiempo no se hizo.\n",
    "Dado lo anterior, vamos a trabajar con las variables: SeniorCitizen, MonthlyCharges, tenure, MultipleLines, InternetService, Dependents y PaymentMethod, para tratar de predecir la variable Churn. <h4>\n",
    "\n",
    "<h3 style=\"color:blue\"> Definamos los conjuntos de entrenamiento y de prueba, así como el normalizado de los datos. El normalizado es importante por los diferentes rangos de valores entre algunas variables y además los K vecinos trabaja mejor con datos normalizados </h3>"
   ]
  },
  {
   "cell_type": "code",
   "execution_count": 411,
   "metadata": {},
   "outputs": [
    {
     "name": "stdout",
     "output_type": "stream",
     "text": [
      "[[ 0.   29.85  1.    1.    0.    0.    2.  ]\n",
      " [ 0.   56.95 34.    0.    0.    0.    3.  ]\n",
      " [ 0.   53.85  2.    0.    0.    0.    3.  ]\n",
      " [ 0.   42.3  45.    1.    0.    0.    0.  ]\n",
      " [ 0.   70.7   2.    0.    1.    0.    2.  ]]\n",
      "[0. 0. 1. 0. 1.]\n",
      "Train set: (5634, 7) (5634,)\n",
      "Test set: (1409, 7) (1409,)\n"
     ]
    }
   ],
   "source": [
    "from sklearn import preprocessing\n",
    "from sklearn.model_selection import train_test_split\n",
    "#defino el vector X con los features a tratar.\n",
    "X = df[['SeniorCitizen', 'MonthlyCharges','tenure', 'MultipleLines', 'InternetService', 'Dependents', 'PaymentMethod']].values\n",
    "print(X[0:5]) # chequeando.\n",
    "#definimos el target\n",
    "Y = df['Churn'].values\n",
    "print(y[0:5]) #chequeando.\n",
    "\n",
    "##NORMALIZAMOS X.\n",
    "X = preprocessing.StandardScaler().fit(X).transform(X.astype(float))\n",
    "X[0:1]\n",
    "\n",
    "##Definamos los conjuntons de entramiento y prueba\n",
    "\n",
    "##Particionando en x train, y train, x test, y tests. Con el 20% de test\n",
    "X_train, X_test, Y_train, Y_test = train_test_split( X, Y, test_size=0.2, random_state=4)\n",
    "#Este es mi x,y de entrenamiento.\n",
    "\n",
    "print ('Train set:', X_train.shape,  Y_train.shape)\n",
    "#Este es el x,y de prueba.\n",
    "print ('Test set:', X_test.shape,  Y_test.shape)\n"
   ]
  },
  {
   "cell_type": "markdown",
   "metadata": {},
   "source": [
    "<h3> Después de haber definido los respectivos conjuntos de entrenamiento y de prueba, se procede a desarrollar el algoritmo de los K vecinos, pero primero, se debe hallar el mejor K (número de vecinos) para el modelo </h3>"
   ]
  },
  {
   "cell_type": "code",
   "execution_count": 412,
   "metadata": {},
   "outputs": [
    {
     "data": {
      "text/plain": [
       "([<matplotlib.axis.XTick at 0x1d2db572408>,\n",
       "  <matplotlib.axis.XTick at 0x1d2db558cc8>,\n",
       "  <matplotlib.axis.XTick at 0x1d2db54da48>,\n",
       "  <matplotlib.axis.XTick at 0x1d2db2b7a08>,\n",
       "  <matplotlib.axis.XTick at 0x1d2db2bd188>,\n",
       "  <matplotlib.axis.XTick at 0x1d2db2b1408>,\n",
       "  <matplotlib.axis.XTick at 0x1d2db2b1e88>,\n",
       "  <matplotlib.axis.XTick at 0x1d2db45e788>],\n",
       " <a list of 8 Text xticklabel objects>)"
      ]
     },
     "execution_count": 412,
     "metadata": {},
     "output_type": "execute_result"
    },
    {
     "data": {
      "image/png": "[encoded data removed]",
      "text/plain": [
       "<Figure size 432x288 with 1 Axes>"
      ]
     },
     "metadata": {
      "needs_background": "light"
     },
     "output_type": "display_data"
    }
   ],
   "source": [
    "from sklearn.neighbors import KNeighborsClassifier\n",
    "k_range = range(1, 8)\n",
    "scores = []\n",
    "for k in k_range:\n",
    "    knn = KNeighborsClassifier(n_neighbors = k)\n",
    "    knn.fit(X_train, Y_train)\n",
    "    scores.append(knn.score(X_test, Y_test))\n",
    "plt.figure()\n",
    "plt.xlabel('k')\n",
    "plt.ylabel('accuracy')\n",
    "plt.scatter(k_range, scores)\n",
    "plt.xticks([1,2,3,4,5,6,7,8]) \n",
    "##Parece que no se está logrando la mejor precisión posibe, lo maximo a los que se llega es al 78%, con k=6. Resulta conveniente pensar\n",
    "# añadir una nueva variable al modelo"
   ]
  },
  {
   "cell_type": "markdown",
   "metadata": {},
   "source": [
    "En el bloque anterior se ve que con las variables seleccionadas y con un k optimo de 6, se logra llegar a una precisión de casi el 79 %. En el bloque siguiente se observará si añadiendo una nueva variable, se puede mejorar dicho valor. Se añade la variable Contract al modelo"
   ]
  },
  {
   "cell_type": "code",
   "execution_count": 413,
   "metadata": {},
   "outputs": [
    {
     "name": "stdout",
     "output_type": "stream",
     "text": [
      "[[ 0.   29.85  1.    1.    0.    0.    2.    0.  ]\n",
      " [ 0.   56.95 34.    0.    0.    0.    3.    1.  ]\n",
      " [ 0.   53.85  2.    0.    0.    0.    3.    0.  ]\n",
      " [ 0.   42.3  45.    1.    0.    0.    0.    1.  ]\n",
      " [ 0.   70.7   2.    0.    1.    0.    2.    0.  ]]\n",
      "[0. 0. 1. 0. 1.]\n",
      "Train set: (5634, 8) (5634,)\n",
      "Test set: (1409, 8) (1409,)\n"
     ]
    },
    {
     "data": {
      "text/plain": [
       "([<matplotlib.axis.XTick at 0x1d2db2b6a48>,\n",
       "  <matplotlib.axis.XTick at 0x1d2db2b6108>,\n",
       "  <matplotlib.axis.XTick at 0x1d2db46dac8>,\n",
       "  <matplotlib.axis.XTick at 0x1d2db47e4c8>,\n",
       "  <matplotlib.axis.XTick at 0x1d2db47eb88>,\n",
       "  <matplotlib.axis.XTick at 0x1d2db480248>,\n",
       "  <matplotlib.axis.XTick at 0x1d2db4809c8>,\n",
       "  <matplotlib.axis.XTick at 0x1d2db486148>,\n",
       "  <matplotlib.axis.XTick at 0x1d2db486908>],\n",
       " <a list of 9 Text xticklabel objects>)"
      ]
     },
     "execution_count": 413,
     "metadata": {},
     "output_type": "execute_result"
    },
    {
     "data": {
      "image/png": "[encoded data removed]",
      "text/plain": [
       "<Figure size 432x288 with 1 Axes>"
      ]
     },
     "metadata": {
      "needs_background": "light"
     },
     "output_type": "display_data"
    }
   ],
   "source": [
    "from sklearn import preprocessing\n",
    "from sklearn.model_selection import train_test_split\n",
    "#defino el vector X con los features a tratar.\n",
    "X = df[['SeniorCitizen', 'MonthlyCharges','tenure', 'MultipleLines', 'InternetService', 'Dependents', 'PaymentMethod',\"Contract\"]].values\n",
    "print(X[0:5]) # chequeando.\n",
    "#definimos el target\n",
    "Y = df['Churn'].values\n",
    "print(y[0:5]) #chequeando.\n",
    "\n",
    "##NORMALIZAMOS X.\n",
    "X = preprocessing.StandardScaler().fit(X).transform(X.astype(float))\n",
    "X[0:1]\n",
    "\n",
    "##Definamos los conjuntons de entramiento y prueba\n",
    "\n",
    "##Particionando en x train, y train, x test, y tests. Con el 20% de test\n",
    "X_train, X_test, Y_train, Y_test = train_test_split( X, Y, test_size=0.2, random_state=4)\n",
    "#Este es mi x,y de entrenamiento.\n",
    "\n",
    "print ('Train set:', X_train.shape,  Y_train.shape)\n",
    "#Este es el x,y de prueba.\n",
    "print ('Test set:', X_test.shape,  Y_test.shape)\n",
    "from sklearn.neighbors import KNeighborsClassifier\n",
    "k_range = range(1, 9)\n",
    "scores = []\n",
    "for k in k_range:\n",
    "    knn = KNeighborsClassifier(n_neighbors = k)\n",
    "    knn.fit(X_train, Y_train)\n",
    "    scores.append(knn.score(X_test, Y_test))\n",
    "plt.figure()\n",
    "plt.xlabel('k')\n",
    "plt.ylabel('accuracy')\n",
    "plt.scatter(k_range, scores)\n",
    "plt.xticks([1,2,3,4,5,6,7,8,9]) \n",
    "#Con el nuevo feature y k=8, se está llegando casí al 80% de la precisión.\n"
   ]
  },
  {
   "cell_type": "markdown",
   "metadata": {},
   "source": [
    "Con la nueva variable que se añadió al modelo y con 8 vecinos, se pudo llegar a una precisión de casi el 80% para el conjunto de prueba, lo cual es un valor aceptable.\n",
    "En el bloque siguiente se formaliza lo anterior y se detallan los resultados."
   ]
  },
  {
   "cell_type": "code",
   "execution_count": 414,
   "metadata": {},
   "outputs": [
    {
     "name": "stdout",
     "output_type": "stream",
     "text": [
      "Precisión en el conjunto de entrenamiento: 0.83\n",
      "Precisión en el conjunto de prueba: 0.79\n",
      "[[953  82]\n",
      " [210 164]]\n",
      "              precision    recall  f1-score   support\n",
      "\n",
      "         0.0       0.82      0.92      0.87      1035\n",
      "         1.0       0.67      0.44      0.53       374\n",
      "\n",
      "    accuracy                           0.79      1409\n",
      "   macro avg       0.74      0.68      0.70      1409\n",
      "weighted avg       0.78      0.79      0.78      1409\n",
      "\n"
     ]
    }
   ],
   "source": [
    "from sklearn.metrics import classification_report\n",
    "from sklearn.metrics import confusion_matrix\n",
    "n_neighbors = 8 #numero de vecinos\n",
    "knn = KNeighborsClassifier(n_neighbors)\n",
    "knn.fit(X_train, Y_train)\n",
    "print('Precisión en el conjunto de entrenamiento: {:.2f}'\n",
    "     .format(knn.score(X_train, Y_train)))\n",
    "print('Precisión en el conjunto de prueba: {:.2f}'\n",
    "     .format(knn.score(X_test, Y_test)))\n",
    "\n",
    "\n",
    "pred = knn.predict(X_test)\n",
    "print(confusion_matrix(Y_test, pred))\n",
    "print(classification_report(Y_test, pred))"
   ]
  },
  {
   "cell_type": "markdown",
   "metadata": {},
   "source": [
    "<h3 style=\"color:blue\">Con un F1 scrore del 79%, se puede decir que el modelo finalmente logra clasificar si un cliente cancelará los servicios con la compañia o no, con una exactitud del 79%. Es un valor bueno, pero con toda seguridad podría mejorarse, analizando más a fondo las variables y los principales componentes. Por cuestiones de tiempo no se hará esa tarea en este momento y se va a aceptar un modelo con el 79% de la precisión.</h3>"
   ]
  },
  {
   "cell_type": "code",
   "execution_count": null,
   "metadata": {},
   "outputs": [],
   "source": []
  }
 ],
 "metadata": {
  "kernelspec": {
   "display_name": "Python 3",
   "language": "python",
   "name": "python3"
  },
  "language_info": {
   "codemirror_mode": {
    "name": "ipython",
    "version": 3
   },
   "file_extension": ".py",
   "mimetype": "text/x-python",
   "name": "python",
   "nbconvert_exporter": "python",
   "pygments_lexer": "ipython3",
   "version": "3.7.4"
  }
 },
 "nbformat": 4,
 "nbformat_minor": 2
}
